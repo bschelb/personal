{
 "cells": [
  {
   "cell_type": "code",
   "execution_count": null,
   "metadata": {},
   "outputs": [],
   "source": [
    "print(\"How many years do you plan on investing?\")\n",
    "y = float(input())\n",
    "print(\"How much money are you investing initially?\")\n",
    "p = float(input())\n",
    "print(\"What is your expected yearly interest rate?\")\n",
    "r = float(input())\n",
    "print(\"How much are you investing monthly?\")\n",
    "d = float(input())\n",
    "\n",
    "n = 12\n",
    "i = (r / 100)  / 12\n",
    "t = n * y\n",
    "\n",
    "total = d * (((1 + i) ** t - 1) / i) * (1 + i)\n",
    "pfv = p * (1 + i) ** t\n",
    "final_total = pfv + total\n",
    "print(final_total)"
   ]
  }
 ],
 "metadata": {
  "kernelspec": {
   "display_name": "Python 3",
   "language": "python",
   "name": "python3"
  },
  "language_info": {
   "codemirror_mode": {
    "name": "ipython",
    "version": 3
   },
   "file_extension": ".py",
   "mimetype": "text/x-python",
   "name": "python",
   "nbconvert_exporter": "python",
   "pygments_lexer": "ipython3",
   "version": "3.6.5"
  }
 },
 "nbformat": 4,
 "nbformat_minor": 2
}
